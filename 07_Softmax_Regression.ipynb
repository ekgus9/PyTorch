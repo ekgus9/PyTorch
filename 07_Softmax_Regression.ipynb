{
  "nbformat": 4,
  "nbformat_minor": 0,
  "metadata": {
    "colab": {
      "name": "07_Softmax_Regression.ipynb",
      "provenance": [],
      "authorship_tag": "ABX9TyOuCp/7xReJ6u1DLbGH/xpF"
    },
    "kernelspec": {
      "name": "python3",
      "display_name": "Python 3"
    },
    "language_info": {
      "name": "python"
    },
    "accelerator": "GPU",
    "widgets": {
      "application/vnd.jupyter.widget-state+json": {
        "8e6d751afe7448edb4aea82e227544ab": {
          "model_module": "@jupyter-widgets/controls",
          "model_name": "HBoxModel",
          "model_module_version": "1.5.0",
          "state": {
            "_dom_classes": [],
            "_model_module": "@jupyter-widgets/controls",
            "_model_module_version": "1.5.0",
            "_model_name": "HBoxModel",
            "_view_count": null,
            "_view_module": "@jupyter-widgets/controls",
            "_view_module_version": "1.5.0",
            "_view_name": "HBoxView",
            "box_style": "",
            "children": [
              "IPY_MODEL_b9afd0f6346c4c07a4b6f1c3b0bee820",
              "IPY_MODEL_9763ee9d337e4017b7e81967a4fd06f2",
              "IPY_MODEL_3a9a8f53b82c4074832875d439450336"
            ],
            "layout": "IPY_MODEL_cf7f3e8e829545e9b2dfad9c2b8a803d"
          }
        },
        "b9afd0f6346c4c07a4b6f1c3b0bee820": {
          "model_module": "@jupyter-widgets/controls",
          "model_name": "HTMLModel",
          "model_module_version": "1.5.0",
          "state": {
            "_dom_classes": [],
            "_model_module": "@jupyter-widgets/controls",
            "_model_module_version": "1.5.0",
            "_model_name": "HTMLModel",
            "_view_count": null,
            "_view_module": "@jupyter-widgets/controls",
            "_view_module_version": "1.5.0",
            "_view_name": "HTMLView",
            "description": "",
            "description_tooltip": null,
            "layout": "IPY_MODEL_2799435341a6454c9740739432cfc997",
            "placeholder": "​",
            "style": "IPY_MODEL_781891b9bab44865b36c0f7473291316",
            "value": ""
          }
        },
        "9763ee9d337e4017b7e81967a4fd06f2": {
          "model_module": "@jupyter-widgets/controls",
          "model_name": "FloatProgressModel",
          "model_module_version": "1.5.0",
          "state": {
            "_dom_classes": [],
            "_model_module": "@jupyter-widgets/controls",
            "_model_module_version": "1.5.0",
            "_model_name": "FloatProgressModel",
            "_view_count": null,
            "_view_module": "@jupyter-widgets/controls",
            "_view_module_version": "1.5.0",
            "_view_name": "ProgressView",
            "bar_style": "success",
            "description": "",
            "description_tooltip": null,
            "layout": "IPY_MODEL_12203d209cc94e099f9d8d918e53126c",
            "max": 9912422,
            "min": 0,
            "orientation": "horizontal",
            "style": "IPY_MODEL_ee30bd7f099042359e5ff5474a2a4039",
            "value": 9912422
          }
        },
        "3a9a8f53b82c4074832875d439450336": {
          "model_module": "@jupyter-widgets/controls",
          "model_name": "HTMLModel",
          "model_module_version": "1.5.0",
          "state": {
            "_dom_classes": [],
            "_model_module": "@jupyter-widgets/controls",
            "_model_module_version": "1.5.0",
            "_model_name": "HTMLModel",
            "_view_count": null,
            "_view_module": "@jupyter-widgets/controls",
            "_view_module_version": "1.5.0",
            "_view_name": "HTMLView",
            "description": "",
            "description_tooltip": null,
            "layout": "IPY_MODEL_5625a72f98f74ad4a362604a1733ce20",
            "placeholder": "​",
            "style": "IPY_MODEL_eae87fdebad64a72ba33b9c431c0b377",
            "value": " 9913344/? [00:00&lt;00:00, 24193624.47it/s]"
          }
        },
        "cf7f3e8e829545e9b2dfad9c2b8a803d": {
          "model_module": "@jupyter-widgets/base",
          "model_name": "LayoutModel",
          "model_module_version": "1.2.0",
          "state": {
            "_model_module": "@jupyter-widgets/base",
            "_model_module_version": "1.2.0",
            "_model_name": "LayoutModel",
            "_view_count": null,
            "_view_module": "@jupyter-widgets/base",
            "_view_module_version": "1.2.0",
            "_view_name": "LayoutView",
            "align_content": null,
            "align_items": null,
            "align_self": null,
            "border": null,
            "bottom": null,
            "display": null,
            "flex": null,
            "flex_flow": null,
            "grid_area": null,
            "grid_auto_columns": null,
            "grid_auto_flow": null,
            "grid_auto_rows": null,
            "grid_column": null,
            "grid_gap": null,
            "grid_row": null,
            "grid_template_areas": null,
            "grid_template_columns": null,
            "grid_template_rows": null,
            "height": null,
            "justify_content": null,
            "justify_items": null,
            "left": null,
            "margin": null,
            "max_height": null,
            "max_width": null,
            "min_height": null,
            "min_width": null,
            "object_fit": null,
            "object_position": null,
            "order": null,
            "overflow": null,
            "overflow_x": null,
            "overflow_y": null,
            "padding": null,
            "right": null,
            "top": null,
            "visibility": null,
            "width": null
          }
        },
        "2799435341a6454c9740739432cfc997": {
          "model_module": "@jupyter-widgets/base",
          "model_name": "LayoutModel",
          "model_module_version": "1.2.0",
          "state": {
            "_model_module": "@jupyter-widgets/base",
            "_model_module_version": "1.2.0",
            "_model_name": "LayoutModel",
            "_view_count": null,
            "_view_module": "@jupyter-widgets/base",
            "_view_module_version": "1.2.0",
            "_view_name": "LayoutView",
            "align_content": null,
            "align_items": null,
            "align_self": null,
            "border": null,
            "bottom": null,
            "display": null,
            "flex": null,
            "flex_flow": null,
            "grid_area": null,
            "grid_auto_columns": null,
            "grid_auto_flow": null,
            "grid_auto_rows": null,
            "grid_column": null,
            "grid_gap": null,
            "grid_row": null,
            "grid_template_areas": null,
            "grid_template_columns": null,
            "grid_template_rows": null,
            "height": null,
            "justify_content": null,
            "justify_items": null,
            "left": null,
            "margin": null,
            "max_height": null,
            "max_width": null,
            "min_height": null,
            "min_width": null,
            "object_fit": null,
            "object_position": null,
            "order": null,
            "overflow": null,
            "overflow_x": null,
            "overflow_y": null,
            "padding": null,
            "right": null,
            "top": null,
            "visibility": null,
            "width": null
          }
        },
        "781891b9bab44865b36c0f7473291316": {
          "model_module": "@jupyter-widgets/controls",
          "model_name": "DescriptionStyleModel",
          "model_module_version": "1.5.0",
          "state": {
            "_model_module": "@jupyter-widgets/controls",
            "_model_module_version": "1.5.0",
            "_model_name": "DescriptionStyleModel",
            "_view_count": null,
            "_view_module": "@jupyter-widgets/base",
            "_view_module_version": "1.2.0",
            "_view_name": "StyleView",
            "description_width": ""
          }
        },
        "12203d209cc94e099f9d8d918e53126c": {
          "model_module": "@jupyter-widgets/base",
          "model_name": "LayoutModel",
          "model_module_version": "1.2.0",
          "state": {
            "_model_module": "@jupyter-widgets/base",
            "_model_module_version": "1.2.0",
            "_model_name": "LayoutModel",
            "_view_count": null,
            "_view_module": "@jupyter-widgets/base",
            "_view_module_version": "1.2.0",
            "_view_name": "LayoutView",
            "align_content": null,
            "align_items": null,
            "align_self": null,
            "border": null,
            "bottom": null,
            "display": null,
            "flex": null,
            "flex_flow": null,
            "grid_area": null,
            "grid_auto_columns": null,
            "grid_auto_flow": null,
            "grid_auto_rows": null,
            "grid_column": null,
            "grid_gap": null,
            "grid_row": null,
            "grid_template_areas": null,
            "grid_template_columns": null,
            "grid_template_rows": null,
            "height": null,
            "justify_content": null,
            "justify_items": null,
            "left": null,
            "margin": null,
            "max_height": null,
            "max_width": null,
            "min_height": null,
            "min_width": null,
            "object_fit": null,
            "object_position": null,
            "order": null,
            "overflow": null,
            "overflow_x": null,
            "overflow_y": null,
            "padding": null,
            "right": null,
            "top": null,
            "visibility": null,
            "width": null
          }
        },
        "ee30bd7f099042359e5ff5474a2a4039": {
          "model_module": "@jupyter-widgets/controls",
          "model_name": "ProgressStyleModel",
          "model_module_version": "1.5.0",
          "state": {
            "_model_module": "@jupyter-widgets/controls",
            "_model_module_version": "1.5.0",
            "_model_name": "ProgressStyleModel",
            "_view_count": null,
            "_view_module": "@jupyter-widgets/base",
            "_view_module_version": "1.2.0",
            "_view_name": "StyleView",
            "bar_color": null,
            "description_width": ""
          }
        },
        "5625a72f98f74ad4a362604a1733ce20": {
          "model_module": "@jupyter-widgets/base",
          "model_name": "LayoutModel",
          "model_module_version": "1.2.0",
          "state": {
            "_model_module": "@jupyter-widgets/base",
            "_model_module_version": "1.2.0",
            "_model_name": "LayoutModel",
            "_view_count": null,
            "_view_module": "@jupyter-widgets/base",
            "_view_module_version": "1.2.0",
            "_view_name": "LayoutView",
            "align_content": null,
            "align_items": null,
            "align_self": null,
            "border": null,
            "bottom": null,
            "display": null,
            "flex": null,
            "flex_flow": null,
            "grid_area": null,
            "grid_auto_columns": null,
            "grid_auto_flow": null,
            "grid_auto_rows": null,
            "grid_column": null,
            "grid_gap": null,
            "grid_row": null,
            "grid_template_areas": null,
            "grid_template_columns": null,
            "grid_template_rows": null,
            "height": null,
            "justify_content": null,
            "justify_items": null,
            "left": null,
            "margin": null,
            "max_height": null,
            "max_width": null,
            "min_height": null,
            "min_width": null,
            "object_fit": null,
            "object_position": null,
            "order": null,
            "overflow": null,
            "overflow_x": null,
            "overflow_y": null,
            "padding": null,
            "right": null,
            "top": null,
            "visibility": null,
            "width": null
          }
        },
        "eae87fdebad64a72ba33b9c431c0b377": {
          "model_module": "@jupyter-widgets/controls",
          "model_name": "DescriptionStyleModel",
          "model_module_version": "1.5.0",
          "state": {
            "_model_module": "@jupyter-widgets/controls",
            "_model_module_version": "1.5.0",
            "_model_name": "DescriptionStyleModel",
            "_view_count": null,
            "_view_module": "@jupyter-widgets/base",
            "_view_module_version": "1.2.0",
            "_view_name": "StyleView",
            "description_width": ""
          }
        },
        "81650bb265084ef7a2b39614755f3bc2": {
          "model_module": "@jupyter-widgets/controls",
          "model_name": "HBoxModel",
          "model_module_version": "1.5.0",
          "state": {
            "_dom_classes": [],
            "_model_module": "@jupyter-widgets/controls",
            "_model_module_version": "1.5.0",
            "_model_name": "HBoxModel",
            "_view_count": null,
            "_view_module": "@jupyter-widgets/controls",
            "_view_module_version": "1.5.0",
            "_view_name": "HBoxView",
            "box_style": "",
            "children": [
              "IPY_MODEL_b031f67b8e8d42058c83ba73ab5e5d2d",
              "IPY_MODEL_9ceb15f8456c474ca47f824d84accd2e",
              "IPY_MODEL_87e91fa67aa9447b8cc6314562ed440b"
            ],
            "layout": "IPY_MODEL_04cb49efbdbf4e7ba7ccb7455381820a"
          }
        },
        "b031f67b8e8d42058c83ba73ab5e5d2d": {
          "model_module": "@jupyter-widgets/controls",
          "model_name": "HTMLModel",
          "model_module_version": "1.5.0",
          "state": {
            "_dom_classes": [],
            "_model_module": "@jupyter-widgets/controls",
            "_model_module_version": "1.5.0",
            "_model_name": "HTMLModel",
            "_view_count": null,
            "_view_module": "@jupyter-widgets/controls",
            "_view_module_version": "1.5.0",
            "_view_name": "HTMLView",
            "description": "",
            "description_tooltip": null,
            "layout": "IPY_MODEL_a0b82ea47dd846aeb0fee693e5cd9fac",
            "placeholder": "​",
            "style": "IPY_MODEL_aed765ac338e4540adbb0419164aaf23",
            "value": ""
          }
        },
        "9ceb15f8456c474ca47f824d84accd2e": {
          "model_module": "@jupyter-widgets/controls",
          "model_name": "FloatProgressModel",
          "model_module_version": "1.5.0",
          "state": {
            "_dom_classes": [],
            "_model_module": "@jupyter-widgets/controls",
            "_model_module_version": "1.5.0",
            "_model_name": "FloatProgressModel",
            "_view_count": null,
            "_view_module": "@jupyter-widgets/controls",
            "_view_module_version": "1.5.0",
            "_view_name": "ProgressView",
            "bar_style": "success",
            "description": "",
            "description_tooltip": null,
            "layout": "IPY_MODEL_b8d19d7927964cb4994d6acd33b32907",
            "max": 28881,
            "min": 0,
            "orientation": "horizontal",
            "style": "IPY_MODEL_8c6631b7062442c7877bb98f08cad8e3",
            "value": 28881
          }
        },
        "87e91fa67aa9447b8cc6314562ed440b": {
          "model_module": "@jupyter-widgets/controls",
          "model_name": "HTMLModel",
          "model_module_version": "1.5.0",
          "state": {
            "_dom_classes": [],
            "_model_module": "@jupyter-widgets/controls",
            "_model_module_version": "1.5.0",
            "_model_name": "HTMLModel",
            "_view_count": null,
            "_view_module": "@jupyter-widgets/controls",
            "_view_module_version": "1.5.0",
            "_view_name": "HTMLView",
            "description": "",
            "description_tooltip": null,
            "layout": "IPY_MODEL_dc0d85c8b700430cbbdf6edb50031180",
            "placeholder": "​",
            "style": "IPY_MODEL_c7ab8db2d82e43929da6d94a7d65c09a",
            "value": " 29696/? [00:00&lt;00:00, 734875.52it/s]"
          }
        },
        "04cb49efbdbf4e7ba7ccb7455381820a": {
          "model_module": "@jupyter-widgets/base",
          "model_name": "LayoutModel",
          "model_module_version": "1.2.0",
          "state": {
            "_model_module": "@jupyter-widgets/base",
            "_model_module_version": "1.2.0",
            "_model_name": "LayoutModel",
            "_view_count": null,
            "_view_module": "@jupyter-widgets/base",
            "_view_module_version": "1.2.0",
            "_view_name": "LayoutView",
            "align_content": null,
            "align_items": null,
            "align_self": null,
            "border": null,
            "bottom": null,
            "display": null,
            "flex": null,
            "flex_flow": null,
            "grid_area": null,
            "grid_auto_columns": null,
            "grid_auto_flow": null,
            "grid_auto_rows": null,
            "grid_column": null,
            "grid_gap": null,
            "grid_row": null,
            "grid_template_areas": null,
            "grid_template_columns": null,
            "grid_template_rows": null,
            "height": null,
            "justify_content": null,
            "justify_items": null,
            "left": null,
            "margin": null,
            "max_height": null,
            "max_width": null,
            "min_height": null,
            "min_width": null,
            "object_fit": null,
            "object_position": null,
            "order": null,
            "overflow": null,
            "overflow_x": null,
            "overflow_y": null,
            "padding": null,
            "right": null,
            "top": null,
            "visibility": null,
            "width": null
          }
        },
        "a0b82ea47dd846aeb0fee693e5cd9fac": {
          "model_module": "@jupyter-widgets/base",
          "model_name": "LayoutModel",
          "model_module_version": "1.2.0",
          "state": {
            "_model_module": "@jupyter-widgets/base",
            "_model_module_version": "1.2.0",
            "_model_name": "LayoutModel",
            "_view_count": null,
            "_view_module": "@jupyter-widgets/base",
            "_view_module_version": "1.2.0",
            "_view_name": "LayoutView",
            "align_content": null,
            "align_items": null,
            "align_self": null,
            "border": null,
            "bottom": null,
            "display": null,
            "flex": null,
            "flex_flow": null,
            "grid_area": null,
            "grid_auto_columns": null,
            "grid_auto_flow": null,
            "grid_auto_rows": null,
            "grid_column": null,
            "grid_gap": null,
            "grid_row": null,
            "grid_template_areas": null,
            "grid_template_columns": null,
            "grid_template_rows": null,
            "height": null,
            "justify_content": null,
            "justify_items": null,
            "left": null,
            "margin": null,
            "max_height": null,
            "max_width": null,
            "min_height": null,
            "min_width": null,
            "object_fit": null,
            "object_position": null,
            "order": null,
            "overflow": null,
            "overflow_x": null,
            "overflow_y": null,
            "padding": null,
            "right": null,
            "top": null,
            "visibility": null,
            "width": null
          }
        },
        "aed765ac338e4540adbb0419164aaf23": {
          "model_module": "@jupyter-widgets/controls",
          "model_name": "DescriptionStyleModel",
          "model_module_version": "1.5.0",
          "state": {
            "_model_module": "@jupyter-widgets/controls",
            "_model_module_version": "1.5.0",
            "_model_name": "DescriptionStyleModel",
            "_view_count": null,
            "_view_module": "@jupyter-widgets/base",
            "_view_module_version": "1.2.0",
            "_view_name": "StyleView",
            "description_width": ""
          }
        },
        "b8d19d7927964cb4994d6acd33b32907": {
          "model_module": "@jupyter-widgets/base",
          "model_name": "LayoutModel",
          "model_module_version": "1.2.0",
          "state": {
            "_model_module": "@jupyter-widgets/base",
            "_model_module_version": "1.2.0",
            "_model_name": "LayoutModel",
            "_view_count": null,
            "_view_module": "@jupyter-widgets/base",
            "_view_module_version": "1.2.0",
            "_view_name": "LayoutView",
            "align_content": null,
            "align_items": null,
            "align_self": null,
            "border": null,
            "bottom": null,
            "display": null,
            "flex": null,
            "flex_flow": null,
            "grid_area": null,
            "grid_auto_columns": null,
            "grid_auto_flow": null,
            "grid_auto_rows": null,
            "grid_column": null,
            "grid_gap": null,
            "grid_row": null,
            "grid_template_areas": null,
            "grid_template_columns": null,
            "grid_template_rows": null,
            "height": null,
            "justify_content": null,
            "justify_items": null,
            "left": null,
            "margin": null,
            "max_height": null,
            "max_width": null,
            "min_height": null,
            "min_width": null,
            "object_fit": null,
            "object_position": null,
            "order": null,
            "overflow": null,
            "overflow_x": null,
            "overflow_y": null,
            "padding": null,
            "right": null,
            "top": null,
            "visibility": null,
            "width": null
          }
        },
        "8c6631b7062442c7877bb98f08cad8e3": {
          "model_module": "@jupyter-widgets/controls",
          "model_name": "ProgressStyleModel",
          "model_module_version": "1.5.0",
          "state": {
            "_model_module": "@jupyter-widgets/controls",
            "_model_module_version": "1.5.0",
            "_model_name": "ProgressStyleModel",
            "_view_count": null,
            "_view_module": "@jupyter-widgets/base",
            "_view_module_version": "1.2.0",
            "_view_name": "StyleView",
            "bar_color": null,
            "description_width": ""
          }
        },
        "dc0d85c8b700430cbbdf6edb50031180": {
          "model_module": "@jupyter-widgets/base",
          "model_name": "LayoutModel",
          "model_module_version": "1.2.0",
          "state": {
            "_model_module": "@jupyter-widgets/base",
            "_model_module_version": "1.2.0",
            "_model_name": "LayoutModel",
            "_view_count": null,
            "_view_module": "@jupyter-widgets/base",
            "_view_module_version": "1.2.0",
            "_view_name": "LayoutView",
            "align_content": null,
            "align_items": null,
            "align_self": null,
            "border": null,
            "bottom": null,
            "display": null,
            "flex": null,
            "flex_flow": null,
            "grid_area": null,
            "grid_auto_columns": null,
            "grid_auto_flow": null,
            "grid_auto_rows": null,
            "grid_column": null,
            "grid_gap": null,
            "grid_row": null,
            "grid_template_areas": null,
            "grid_template_columns": null,
            "grid_template_rows": null,
            "height": null,
            "justify_content": null,
            "justify_items": null,
            "left": null,
            "margin": null,
            "max_height": null,
            "max_width": null,
            "min_height": null,
            "min_width": null,
            "object_fit": null,
            "object_position": null,
            "order": null,
            "overflow": null,
            "overflow_x": null,
            "overflow_y": null,
            "padding": null,
            "right": null,
            "top": null,
            "visibility": null,
            "width": null
          }
        },
        "c7ab8db2d82e43929da6d94a7d65c09a": {
          "model_module": "@jupyter-widgets/controls",
          "model_name": "DescriptionStyleModel",
          "model_module_version": "1.5.0",
          "state": {
            "_model_module": "@jupyter-widgets/controls",
            "_model_module_version": "1.5.0",
            "_model_name": "DescriptionStyleModel",
            "_view_count": null,
            "_view_module": "@jupyter-widgets/base",
            "_view_module_version": "1.2.0",
            "_view_name": "StyleView",
            "description_width": ""
          }
        },
        "09a10199c2d74f89b609d53f455226ca": {
          "model_module": "@jupyter-widgets/controls",
          "model_name": "HBoxModel",
          "model_module_version": "1.5.0",
          "state": {
            "_dom_classes": [],
            "_model_module": "@jupyter-widgets/controls",
            "_model_module_version": "1.5.0",
            "_model_name": "HBoxModel",
            "_view_count": null,
            "_view_module": "@jupyter-widgets/controls",
            "_view_module_version": "1.5.0",
            "_view_name": "HBoxView",
            "box_style": "",
            "children": [
              "IPY_MODEL_72ff19b3d0c5428cbe409cf693844bcb",
              "IPY_MODEL_e7af18fa900a40f391211340c73f076e",
              "IPY_MODEL_0420dd1becbb42a4b1c23f7e90ba9b66"
            ],
            "layout": "IPY_MODEL_ef1f8c3263b34be49dd42d7e48e04dd9"
          }
        },
        "72ff19b3d0c5428cbe409cf693844bcb": {
          "model_module": "@jupyter-widgets/controls",
          "model_name": "HTMLModel",
          "model_module_version": "1.5.0",
          "state": {
            "_dom_classes": [],
            "_model_module": "@jupyter-widgets/controls",
            "_model_module_version": "1.5.0",
            "_model_name": "HTMLModel",
            "_view_count": null,
            "_view_module": "@jupyter-widgets/controls",
            "_view_module_version": "1.5.0",
            "_view_name": "HTMLView",
            "description": "",
            "description_tooltip": null,
            "layout": "IPY_MODEL_2d133594bb05407d81ab57b1ba745454",
            "placeholder": "​",
            "style": "IPY_MODEL_2b9b6b689f984056921125241ea507a5",
            "value": ""
          }
        },
        "e7af18fa900a40f391211340c73f076e": {
          "model_module": "@jupyter-widgets/controls",
          "model_name": "FloatProgressModel",
          "model_module_version": "1.5.0",
          "state": {
            "_dom_classes": [],
            "_model_module": "@jupyter-widgets/controls",
            "_model_module_version": "1.5.0",
            "_model_name": "FloatProgressModel",
            "_view_count": null,
            "_view_module": "@jupyter-widgets/controls",
            "_view_module_version": "1.5.0",
            "_view_name": "ProgressView",
            "bar_style": "success",
            "description": "",
            "description_tooltip": null,
            "layout": "IPY_MODEL_23dcdb7461074a27b10c88afa0ededff",
            "max": 1648877,
            "min": 0,
            "orientation": "horizontal",
            "style": "IPY_MODEL_bf3ea32d17fc4c2ba8a9f548327ed65f",
            "value": 1648877
          }
        },
        "0420dd1becbb42a4b1c23f7e90ba9b66": {
          "model_module": "@jupyter-widgets/controls",
          "model_name": "HTMLModel",
          "model_module_version": "1.5.0",
          "state": {
            "_dom_classes": [],
            "_model_module": "@jupyter-widgets/controls",
            "_model_module_version": "1.5.0",
            "_model_name": "HTMLModel",
            "_view_count": null,
            "_view_module": "@jupyter-widgets/controls",
            "_view_module_version": "1.5.0",
            "_view_name": "HTMLView",
            "description": "",
            "description_tooltip": null,
            "layout": "IPY_MODEL_791f9240ec2f4d129f64a4998ca00449",
            "placeholder": "​",
            "style": "IPY_MODEL_3554efa534d0460cb0da312c712e8772",
            "value": " 1649664/? [00:00&lt;00:00, 19053262.60it/s]"
          }
        },
        "ef1f8c3263b34be49dd42d7e48e04dd9": {
          "model_module": "@jupyter-widgets/base",
          "model_name": "LayoutModel",
          "model_module_version": "1.2.0",
          "state": {
            "_model_module": "@jupyter-widgets/base",
            "_model_module_version": "1.2.0",
            "_model_name": "LayoutModel",
            "_view_count": null,
            "_view_module": "@jupyter-widgets/base",
            "_view_module_version": "1.2.0",
            "_view_name": "LayoutView",
            "align_content": null,
            "align_items": null,
            "align_self": null,
            "border": null,
            "bottom": null,
            "display": null,
            "flex": null,
            "flex_flow": null,
            "grid_area": null,
            "grid_auto_columns": null,
            "grid_auto_flow": null,
            "grid_auto_rows": null,
            "grid_column": null,
            "grid_gap": null,
            "grid_row": null,
            "grid_template_areas": null,
            "grid_template_columns": null,
            "grid_template_rows": null,
            "height": null,
            "justify_content": null,
            "justify_items": null,
            "left": null,
            "margin": null,
            "max_height": null,
            "max_width": null,
            "min_height": null,
            "min_width": null,
            "object_fit": null,
            "object_position": null,
            "order": null,
            "overflow": null,
            "overflow_x": null,
            "overflow_y": null,
            "padding": null,
            "right": null,
            "top": null,
            "visibility": null,
            "width": null
          }
        },
        "2d133594bb05407d81ab57b1ba745454": {
          "model_module": "@jupyter-widgets/base",
          "model_name": "LayoutModel",
          "model_module_version": "1.2.0",
          "state": {
            "_model_module": "@jupyter-widgets/base",
            "_model_module_version": "1.2.0",
            "_model_name": "LayoutModel",
            "_view_count": null,
            "_view_module": "@jupyter-widgets/base",
            "_view_module_version": "1.2.0",
            "_view_name": "LayoutView",
            "align_content": null,
            "align_items": null,
            "align_self": null,
            "border": null,
            "bottom": null,
            "display": null,
            "flex": null,
            "flex_flow": null,
            "grid_area": null,
            "grid_auto_columns": null,
            "grid_auto_flow": null,
            "grid_auto_rows": null,
            "grid_column": null,
            "grid_gap": null,
            "grid_row": null,
            "grid_template_areas": null,
            "grid_template_columns": null,
            "grid_template_rows": null,
            "height": null,
            "justify_content": null,
            "justify_items": null,
            "left": null,
            "margin": null,
            "max_height": null,
            "max_width": null,
            "min_height": null,
            "min_width": null,
            "object_fit": null,
            "object_position": null,
            "order": null,
            "overflow": null,
            "overflow_x": null,
            "overflow_y": null,
            "padding": null,
            "right": null,
            "top": null,
            "visibility": null,
            "width": null
          }
        },
        "2b9b6b689f984056921125241ea507a5": {
          "model_module": "@jupyter-widgets/controls",
          "model_name": "DescriptionStyleModel",
          "model_module_version": "1.5.0",
          "state": {
            "_model_module": "@jupyter-widgets/controls",
            "_model_module_version": "1.5.0",
            "_model_name": "DescriptionStyleModel",
            "_view_count": null,
            "_view_module": "@jupyter-widgets/base",
            "_view_module_version": "1.2.0",
            "_view_name": "StyleView",
            "description_width": ""
          }
        },
        "23dcdb7461074a27b10c88afa0ededff": {
          "model_module": "@jupyter-widgets/base",
          "model_name": "LayoutModel",
          "model_module_version": "1.2.0",
          "state": {
            "_model_module": "@jupyter-widgets/base",
            "_model_module_version": "1.2.0",
            "_model_name": "LayoutModel",
            "_view_count": null,
            "_view_module": "@jupyter-widgets/base",
            "_view_module_version": "1.2.0",
            "_view_name": "LayoutView",
            "align_content": null,
            "align_items": null,
            "align_self": null,
            "border": null,
            "bottom": null,
            "display": null,
            "flex": null,
            "flex_flow": null,
            "grid_area": null,
            "grid_auto_columns": null,
            "grid_auto_flow": null,
            "grid_auto_rows": null,
            "grid_column": null,
            "grid_gap": null,
            "grid_row": null,
            "grid_template_areas": null,
            "grid_template_columns": null,
            "grid_template_rows": null,
            "height": null,
            "justify_content": null,
            "justify_items": null,
            "left": null,
            "margin": null,
            "max_height": null,
            "max_width": null,
            "min_height": null,
            "min_width": null,
            "object_fit": null,
            "object_position": null,
            "order": null,
            "overflow": null,
            "overflow_x": null,
            "overflow_y": null,
            "padding": null,
            "right": null,
            "top": null,
            "visibility": null,
            "width": null
          }
        },
        "bf3ea32d17fc4c2ba8a9f548327ed65f": {
          "model_module": "@jupyter-widgets/controls",
          "model_name": "ProgressStyleModel",
          "model_module_version": "1.5.0",
          "state": {
            "_model_module": "@jupyter-widgets/controls",
            "_model_module_version": "1.5.0",
            "_model_name": "ProgressStyleModel",
            "_view_count": null,
            "_view_module": "@jupyter-widgets/base",
            "_view_module_version": "1.2.0",
            "_view_name": "StyleView",
            "bar_color": null,
            "description_width": ""
          }
        },
        "791f9240ec2f4d129f64a4998ca00449": {
          "model_module": "@jupyter-widgets/base",
          "model_name": "LayoutModel",
          "model_module_version": "1.2.0",
          "state": {
            "_model_module": "@jupyter-widgets/base",
            "_model_module_version": "1.2.0",
            "_model_name": "LayoutModel",
            "_view_count": null,
            "_view_module": "@jupyter-widgets/base",
            "_view_module_version": "1.2.0",
            "_view_name": "LayoutView",
            "align_content": null,
            "align_items": null,
            "align_self": null,
            "border": null,
            "bottom": null,
            "display": null,
            "flex": null,
            "flex_flow": null,
            "grid_area": null,
            "grid_auto_columns": null,
            "grid_auto_flow": null,
            "grid_auto_rows": null,
            "grid_column": null,
            "grid_gap": null,
            "grid_row": null,
            "grid_template_areas": null,
            "grid_template_columns": null,
            "grid_template_rows": null,
            "height": null,
            "justify_content": null,
            "justify_items": null,
            "left": null,
            "margin": null,
            "max_height": null,
            "max_width": null,
            "min_height": null,
            "min_width": null,
            "object_fit": null,
            "object_position": null,
            "order": null,
            "overflow": null,
            "overflow_x": null,
            "overflow_y": null,
            "padding": null,
            "right": null,
            "top": null,
            "visibility": null,
            "width": null
          }
        },
        "3554efa534d0460cb0da312c712e8772": {
          "model_module": "@jupyter-widgets/controls",
          "model_name": "DescriptionStyleModel",
          "model_module_version": "1.5.0",
          "state": {
            "_model_module": "@jupyter-widgets/controls",
            "_model_module_version": "1.5.0",
            "_model_name": "DescriptionStyleModel",
            "_view_count": null,
            "_view_module": "@jupyter-widgets/base",
            "_view_module_version": "1.2.0",
            "_view_name": "StyleView",
            "description_width": ""
          }
        },
        "4ec1e68b75544b949fad5441458deb1c": {
          "model_module": "@jupyter-widgets/controls",
          "model_name": "HBoxModel",
          "model_module_version": "1.5.0",
          "state": {
            "_dom_classes": [],
            "_model_module": "@jupyter-widgets/controls",
            "_model_module_version": "1.5.0",
            "_model_name": "HBoxModel",
            "_view_count": null,
            "_view_module": "@jupyter-widgets/controls",
            "_view_module_version": "1.5.0",
            "_view_name": "HBoxView",
            "box_style": "",
            "children": [
              "IPY_MODEL_85a01798b98447749a899179296d40ff",
              "IPY_MODEL_063dc4ccb7314aa1b551f81397e994a8",
              "IPY_MODEL_a4852b6a442d4b5cbab33f91c7f5e412"
            ],
            "layout": "IPY_MODEL_ecd82328d67842ea8b081957de5b2b85"
          }
        },
        "85a01798b98447749a899179296d40ff": {
          "model_module": "@jupyter-widgets/controls",
          "model_name": "HTMLModel",
          "model_module_version": "1.5.0",
          "state": {
            "_dom_classes": [],
            "_model_module": "@jupyter-widgets/controls",
            "_model_module_version": "1.5.0",
            "_model_name": "HTMLModel",
            "_view_count": null,
            "_view_module": "@jupyter-widgets/controls",
            "_view_module_version": "1.5.0",
            "_view_name": "HTMLView",
            "description": "",
            "description_tooltip": null,
            "layout": "IPY_MODEL_0c6e9d9f9d4d47f1a02f4a9e91cd5e4f",
            "placeholder": "​",
            "style": "IPY_MODEL_cff7193d2f344e768e164b4e5837c5b9",
            "value": ""
          }
        },
        "063dc4ccb7314aa1b551f81397e994a8": {
          "model_module": "@jupyter-widgets/controls",
          "model_name": "FloatProgressModel",
          "model_module_version": "1.5.0",
          "state": {
            "_dom_classes": [],
            "_model_module": "@jupyter-widgets/controls",
            "_model_module_version": "1.5.0",
            "_model_name": "FloatProgressModel",
            "_view_count": null,
            "_view_module": "@jupyter-widgets/controls",
            "_view_module_version": "1.5.0",
            "_view_name": "ProgressView",
            "bar_style": "success",
            "description": "",
            "description_tooltip": null,
            "layout": "IPY_MODEL_9eeb344d3f92481fb96d9abaee6c53b7",
            "max": 4542,
            "min": 0,
            "orientation": "horizontal",
            "style": "IPY_MODEL_0ec884c4126f430c82ef689fdc34e5af",
            "value": 4542
          }
        },
        "a4852b6a442d4b5cbab33f91c7f5e412": {
          "model_module": "@jupyter-widgets/controls",
          "model_name": "HTMLModel",
          "model_module_version": "1.5.0",
          "state": {
            "_dom_classes": [],
            "_model_module": "@jupyter-widgets/controls",
            "_model_module_version": "1.5.0",
            "_model_name": "HTMLModel",
            "_view_count": null,
            "_view_module": "@jupyter-widgets/controls",
            "_view_module_version": "1.5.0",
            "_view_name": "HTMLView",
            "description": "",
            "description_tooltip": null,
            "layout": "IPY_MODEL_b8b1a2858cfc469d8a72b67eada8c7bc",
            "placeholder": "​",
            "style": "IPY_MODEL_c48c635be5d4418eabf9d618c19d1272",
            "value": " 5120/? [00:00&lt;00:00, 122981.10it/s]"
          }
        },
        "ecd82328d67842ea8b081957de5b2b85": {
          "model_module": "@jupyter-widgets/base",
          "model_name": "LayoutModel",
          "model_module_version": "1.2.0",
          "state": {
            "_model_module": "@jupyter-widgets/base",
            "_model_module_version": "1.2.0",
            "_model_name": "LayoutModel",
            "_view_count": null,
            "_view_module": "@jupyter-widgets/base",
            "_view_module_version": "1.2.0",
            "_view_name": "LayoutView",
            "align_content": null,
            "align_items": null,
            "align_self": null,
            "border": null,
            "bottom": null,
            "display": null,
            "flex": null,
            "flex_flow": null,
            "grid_area": null,
            "grid_auto_columns": null,
            "grid_auto_flow": null,
            "grid_auto_rows": null,
            "grid_column": null,
            "grid_gap": null,
            "grid_row": null,
            "grid_template_areas": null,
            "grid_template_columns": null,
            "grid_template_rows": null,
            "height": null,
            "justify_content": null,
            "justify_items": null,
            "left": null,
            "margin": null,
            "max_height": null,
            "max_width": null,
            "min_height": null,
            "min_width": null,
            "object_fit": null,
            "object_position": null,
            "order": null,
            "overflow": null,
            "overflow_x": null,
            "overflow_y": null,
            "padding": null,
            "right": null,
            "top": null,
            "visibility": null,
            "width": null
          }
        },
        "0c6e9d9f9d4d47f1a02f4a9e91cd5e4f": {
          "model_module": "@jupyter-widgets/base",
          "model_name": "LayoutModel",
          "model_module_version": "1.2.0",
          "state": {
            "_model_module": "@jupyter-widgets/base",
            "_model_module_version": "1.2.0",
            "_model_name": "LayoutModel",
            "_view_count": null,
            "_view_module": "@jupyter-widgets/base",
            "_view_module_version": "1.2.0",
            "_view_name": "LayoutView",
            "align_content": null,
            "align_items": null,
            "align_self": null,
            "border": null,
            "bottom": null,
            "display": null,
            "flex": null,
            "flex_flow": null,
            "grid_area": null,
            "grid_auto_columns": null,
            "grid_auto_flow": null,
            "grid_auto_rows": null,
            "grid_column": null,
            "grid_gap": null,
            "grid_row": null,
            "grid_template_areas": null,
            "grid_template_columns": null,
            "grid_template_rows": null,
            "height": null,
            "justify_content": null,
            "justify_items": null,
            "left": null,
            "margin": null,
            "max_height": null,
            "max_width": null,
            "min_height": null,
            "min_width": null,
            "object_fit": null,
            "object_position": null,
            "order": null,
            "overflow": null,
            "overflow_x": null,
            "overflow_y": null,
            "padding": null,
            "right": null,
            "top": null,
            "visibility": null,
            "width": null
          }
        },
        "cff7193d2f344e768e164b4e5837c5b9": {
          "model_module": "@jupyter-widgets/controls",
          "model_name": "DescriptionStyleModel",
          "model_module_version": "1.5.0",
          "state": {
            "_model_module": "@jupyter-widgets/controls",
            "_model_module_version": "1.5.0",
            "_model_name": "DescriptionStyleModel",
            "_view_count": null,
            "_view_module": "@jupyter-widgets/base",
            "_view_module_version": "1.2.0",
            "_view_name": "StyleView",
            "description_width": ""
          }
        },
        "9eeb344d3f92481fb96d9abaee6c53b7": {
          "model_module": "@jupyter-widgets/base",
          "model_name": "LayoutModel",
          "model_module_version": "1.2.0",
          "state": {
            "_model_module": "@jupyter-widgets/base",
            "_model_module_version": "1.2.0",
            "_model_name": "LayoutModel",
            "_view_count": null,
            "_view_module": "@jupyter-widgets/base",
            "_view_module_version": "1.2.0",
            "_view_name": "LayoutView",
            "align_content": null,
            "align_items": null,
            "align_self": null,
            "border": null,
            "bottom": null,
            "display": null,
            "flex": null,
            "flex_flow": null,
            "grid_area": null,
            "grid_auto_columns": null,
            "grid_auto_flow": null,
            "grid_auto_rows": null,
            "grid_column": null,
            "grid_gap": null,
            "grid_row": null,
            "grid_template_areas": null,
            "grid_template_columns": null,
            "grid_template_rows": null,
            "height": null,
            "justify_content": null,
            "justify_items": null,
            "left": null,
            "margin": null,
            "max_height": null,
            "max_width": null,
            "min_height": null,
            "min_width": null,
            "object_fit": null,
            "object_position": null,
            "order": null,
            "overflow": null,
            "overflow_x": null,
            "overflow_y": null,
            "padding": null,
            "right": null,
            "top": null,
            "visibility": null,
            "width": null
          }
        },
        "0ec884c4126f430c82ef689fdc34e5af": {
          "model_module": "@jupyter-widgets/controls",
          "model_name": "ProgressStyleModel",
          "model_module_version": "1.5.0",
          "state": {
            "_model_module": "@jupyter-widgets/controls",
            "_model_module_version": "1.5.0",
            "_model_name": "ProgressStyleModel",
            "_view_count": null,
            "_view_module": "@jupyter-widgets/base",
            "_view_module_version": "1.2.0",
            "_view_name": "StyleView",
            "bar_color": null,
            "description_width": ""
          }
        },
        "b8b1a2858cfc469d8a72b67eada8c7bc": {
          "model_module": "@jupyter-widgets/base",
          "model_name": "LayoutModel",
          "model_module_version": "1.2.0",
          "state": {
            "_model_module": "@jupyter-widgets/base",
            "_model_module_version": "1.2.0",
            "_model_name": "LayoutModel",
            "_view_count": null,
            "_view_module": "@jupyter-widgets/base",
            "_view_module_version": "1.2.0",
            "_view_name": "LayoutView",
            "align_content": null,
            "align_items": null,
            "align_self": null,
            "border": null,
            "bottom": null,
            "display": null,
            "flex": null,
            "flex_flow": null,
            "grid_area": null,
            "grid_auto_columns": null,
            "grid_auto_flow": null,
            "grid_auto_rows": null,
            "grid_column": null,
            "grid_gap": null,
            "grid_row": null,
            "grid_template_areas": null,
            "grid_template_columns": null,
            "grid_template_rows": null,
            "height": null,
            "justify_content": null,
            "justify_items": null,
            "left": null,
            "margin": null,
            "max_height": null,
            "max_width": null,
            "min_height": null,
            "min_width": null,
            "object_fit": null,
            "object_position": null,
            "order": null,
            "overflow": null,
            "overflow_x": null,
            "overflow_y": null,
            "padding": null,
            "right": null,
            "top": null,
            "visibility": null,
            "width": null
          }
        },
        "c48c635be5d4418eabf9d618c19d1272": {
          "model_module": "@jupyter-widgets/controls",
          "model_name": "DescriptionStyleModel",
          "model_module_version": "1.5.0",
          "state": {
            "_model_module": "@jupyter-widgets/controls",
            "_model_module_version": "1.5.0",
            "_model_name": "DescriptionStyleModel",
            "_view_count": null,
            "_view_module": "@jupyter-widgets/base",
            "_view_module_version": "1.2.0",
            "_view_name": "StyleView",
            "description_width": ""
          }
        }
      }
    }
  },
  "cells": [
    {
      "cell_type": "markdown",
      "source": [
        "1. One-Hot Encoding\n",
        "\n",
        "  각 선택지에 해당하는 인덱스 원소는 1, 나머지는 0의 값을 가지도록하는 표현 방법\n",
        "\n",
        "  원-핫 벡터의 무작위성 : 모든 클래스 간 관계를 균등하게 분배 (단어의 유사성을 구할 수 없는 단점)\n",
        "\n",
        "2. Softmax Regression\n",
        "\n",
        "- Multi-class Classification\n",
        "\n",
        "  iris data\n",
        "\n",
        "- Softmax function\n",
        "\n",
        "  ![image.png](data:image/png;base64,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)\n",
        "\n",
        "  소프트맥스 함수의 입력으로 어떻게 바꿀까? 하나의 샘플 데이터가 만약 4개의 독립변수를 가진다면 이는 모델이 4차원 벡터를 입력 받음을 의미한다. 그러나 벡터 차원이 분류하고자 하는 클래스의 개수가 3개라면 3차원 벡터로 변환되어야 한다. 이는 오차를 최소화하는 가중치 곱으로 만들 수 있다. \n",
        "\n",
        "  오차를 어떻게 구할까? 소프트맥스의 실제값은 원-핫 벡터이다. 실제값과 예측값 벡터의 오차를 계산하기 위해 크로스 엔트로피 함수를 사용한다. \n",
        "\n",
        "3. Cost function\n",
        "\n",
        "- 크로스 엔트로피 함수\n",
        "\n",
        "  ![image.png](data:image/png;base64,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)\n",
        "\n",
        "  log 1 = 0\n",
        "\n"
      ],
      "metadata": {
        "id": "rkYhzT6HTIXP"
      }
    },
    {
      "cell_type": "code",
      "source": [
        "# low level\n",
        "import torch\n",
        "import torch.nn.functional as F\n",
        "\n",
        "z = torch.FloatTensor([1,2,3])\n",
        "\n",
        "h = F.softmax(z,dim=0)\n",
        "h"
      ],
      "metadata": {
        "colab": {
          "base_uri": "https://localhost:8080/"
        },
        "id": "4KV4ScXJKK-5",
        "outputId": "4a5a2854-e2f5-4ceb-a313-95070189a622"
      },
      "execution_count": 4,
      "outputs": [
        {
          "output_type": "execute_result",
          "data": {
            "text/plain": [
              "tensor([0.0900, 0.2447, 0.6652])"
            ]
          },
          "metadata": {},
          "execution_count": 4
        }
      ]
    },
    {
      "cell_type": "code",
      "source": [
        "z = torch.rand(3,5,requires_grad = True)\n",
        "h = F.softmax(z,dim=1) # 두번째 차원에 대해 소프트 맥스 적용\n",
        "h"
      ],
      "metadata": {
        "colab": {
          "base_uri": "https://localhost:8080/"
        },
        "id": "PkiSjZKpK3G1",
        "outputId": "cd287699-0489-42fe-bb1e-cf36823bea1c"
      },
      "execution_count": 6,
      "outputs": [
        {
          "output_type": "execute_result",
          "data": {
            "text/plain": [
              "tensor([[0.2491, 0.1409, 0.2488, 0.2447, 0.1166],\n",
              "        [0.1107, 0.2096, 0.2629, 0.2340, 0.1828],\n",
              "        [0.2055, 0.2376, 0.1894, 0.2376, 0.1300]], grad_fn=<SoftmaxBackward0>)"
            ]
          },
          "metadata": {},
          "execution_count": 6
        }
      ]
    },
    {
      "cell_type": "code",
      "source": [
        "y = torch.randint(5,(3,)).long()\n",
        "y"
      ],
      "metadata": {
        "colab": {
          "base_uri": "https://localhost:8080/"
        },
        "id": "1EU4i38sMXTL",
        "outputId": "de62b503-2ae1-419a-fdad-aea09f7ff755"
      },
      "execution_count": 8,
      "outputs": [
        {
          "output_type": "execute_result",
          "data": {
            "text/plain": [
              "tensor([3, 1, 3])"
            ]
          },
          "metadata": {},
          "execution_count": 8
        }
      ]
    },
    {
      "cell_type": "code",
      "source": [
        "y_one_hot = torch.zeros_like(h)\n",
        "y_one_hot.scatter_(1,y.unsqueeze(1),1) # (dim = 1에 대해서, (3,) -> (3 x 1), 숫자 1 대입) "
      ],
      "metadata": {
        "colab": {
          "base_uri": "https://localhost:8080/"
        },
        "id": "p9LO7IzHM03v",
        "outputId": "e46ec53f-9b0a-428b-e9dc-111775eb5448"
      },
      "execution_count": 10,
      "outputs": [
        {
          "output_type": "execute_result",
          "data": {
            "text/plain": [
              "tensor([[0., 0., 0., 1., 0.],\n",
              "        [0., 1., 0., 0., 0.],\n",
              "        [0., 0., 0., 1., 0.]])"
            ]
          },
          "metadata": {},
          "execution_count": 10
        }
      ]
    },
    {
      "cell_type": "code",
      "source": [
        "cost = (y_one_hot * -torch.log(h)).sum(dim=1).mean()\n",
        "cost"
      ],
      "metadata": {
        "colab": {
          "base_uri": "https://localhost:8080/"
        },
        "id": "n-AaOWj6ONau",
        "outputId": "cf1bb3c6-cd85-4cc6-f036-88091f8e5168"
      },
      "execution_count": 11,
      "outputs": [
        {
          "output_type": "execute_result",
          "data": {
            "text/plain": [
              "tensor(1.1138, grad_fn=<MeanBackward0>)"
            ]
          },
          "metadata": {},
          "execution_count": 11
        }
      ]
    },
    {
      "cell_type": "code",
      "source": [
        "# high level\n",
        "\n",
        "# torch.log(F.softmax(z,dim=1)) -> F.log_softmax(z,dim=1)\n",
        "\n",
        "# (y_one_hot * -torch.log(F.softmax(z, dim=1))).sum(dim=1).mean()\n",
        "# -> (y_one_hot * - F.log_softmax(z, dim=1)).sum(dim=1).mean()\n",
        "# -> F.nll_loss(F.log_softmax(z, dim=1), y)\n",
        "# -> F.cross_entropy(z, y) # 크로스 엔트로피 안에는 소프트 맥스 포함"
      ],
      "metadata": {
        "id": "Uu5CW0-zNzmf"
      },
      "execution_count": null,
      "outputs": []
    },
    {
      "cell_type": "markdown",
      "source": [
        "- softmax regression 구현"
      ],
      "metadata": {
        "id": "jbGq3AL-PaNw"
      }
    },
    {
      "cell_type": "code",
      "source": [
        "import torch\n",
        "import torch.nn as nn\n",
        "import torch.nn.functional as F\n",
        "import torch.optim as optim"
      ],
      "metadata": {
        "id": "PrGKhYS8PfUd"
      },
      "execution_count": 1,
      "outputs": []
    },
    {
      "cell_type": "code",
      "source": [
        "x_train = [[1, 2, 1, 1],\n",
        "           [2, 1, 3, 2],\n",
        "           [3, 1, 3, 4],\n",
        "           [4, 1, 5, 5],\n",
        "           [1, 7, 5, 5],\n",
        "           [1, 2, 5, 6],\n",
        "           [1, 6, 6, 6],\n",
        "           [1, 7, 7, 7]]\n",
        "y_train = [2, 2, 2, 1, 1, 1, 0, 0]\n",
        "x_train = torch.FloatTensor(x_train)\n",
        "y_train = torch.LongTensor(y_train)"
      ],
      "metadata": {
        "id": "1iM3vIcSPh8k"
      },
      "execution_count": 2,
      "outputs": []
    },
    {
      "cell_type": "code",
      "source": [
        "# low level\n",
        "y_one_hot = torch.zeros(8,3) # 클래스 수 3\n",
        "y_one_hot.scatter_(1,y_train.unsqueeze(1),1)\n",
        "\n",
        "W = torch.zeros((4,3),requires_grad = True)\n",
        "b = torch.zeros(1, requires_grad = True)\n",
        "\n",
        "optimizer = optim.SGD([W,b],lr = 0.1)\n",
        "\n",
        "nb_epochs = 1000\n",
        "for epoch in range(nb_epochs + 1):\n",
        "  h = F.softmax(x_train.matmul(W)+b,dim = 1)\n",
        "  cost = (y_one_hot * -torch.log(h)).sum(dim=1).mean()\n",
        "\n",
        "  optimizer.zero_grad()\n",
        "  cost.backward()\n",
        "  optimizer.step()\n",
        "\n",
        "  if epoch % 100 == 0:\n",
        "    print('Epoch {:4d}/{} Cost: {:.6f}'.format(\n",
        "      epoch, nb_epochs, cost.item()\n",
        "    ))"
      ],
      "metadata": {
        "colab": {
          "base_uri": "https://localhost:8080/"
        },
        "id": "sihG2h0p7-oL",
        "outputId": "fc40ade6-43aa-4103-a4b8-63f14d511b0f"
      },
      "execution_count": 5,
      "outputs": [
        {
          "output_type": "stream",
          "name": "stdout",
          "text": [
            "Epoch    0/1000 Cost: 1.098612\n",
            "Epoch  100/1000 Cost: 0.761050\n",
            "Epoch  200/1000 Cost: 0.689991\n",
            "Epoch  300/1000 Cost: 0.643229\n",
            "Epoch  400/1000 Cost: 0.604117\n",
            "Epoch  500/1000 Cost: 0.568255\n",
            "Epoch  600/1000 Cost: 0.533922\n",
            "Epoch  700/1000 Cost: 0.500291\n",
            "Epoch  800/1000 Cost: 0.466908\n",
            "Epoch  900/1000 Cost: 0.433507\n",
            "Epoch 1000/1000 Cost: 0.399962\n"
          ]
        }
      ]
    },
    {
      "cell_type": "code",
      "source": [
        "# high level\n",
        "\n",
        "nb_epochs = 1000\n",
        "for epoch in range(nb_epochs + 1):\n",
        "  h = F.softmax(x_train.matmul(W)+b,dim = 1)\n",
        "  cost = F.cross_entropy(h,y_train)\n",
        "\n",
        "  optimizer.zero_grad()\n",
        "  cost.backward()\n",
        "  optimizer.step()\n",
        "\n",
        "  if epoch % 100 == 0:\n",
        "    print('Epoch {:4d}/{} Cost: {:.6f}'.format(\n",
        "      epoch, nb_epochs, cost.item()\n",
        "    ))"
      ],
      "metadata": {
        "colab": {
          "base_uri": "https://localhost:8080/"
        },
        "id": "tAYEFhiP9c_k",
        "outputId": "9aa5bb6f-2096-4781-955a-a15047b5b3e5"
      },
      "execution_count": 6,
      "outputs": [
        {
          "output_type": "stream",
          "name": "stdout",
          "text": [
            "Epoch    0/1000 Cost: 0.783622\n",
            "Epoch  100/1000 Cost: 0.755510\n",
            "Epoch  200/1000 Cost: 0.751644\n",
            "Epoch  300/1000 Cost: 0.747898\n",
            "Epoch  400/1000 Cost: 0.744264\n",
            "Epoch  500/1000 Cost: 0.740739\n",
            "Epoch  600/1000 Cost: 0.737319\n",
            "Epoch  700/1000 Cost: 0.734001\n",
            "Epoch  800/1000 Cost: 0.730781\n",
            "Epoch  900/1000 Cost: 0.727657\n",
            "Epoch 1000/1000 Cost: 0.724623\n"
          ]
        }
      ]
    },
    {
      "cell_type": "code",
      "source": [
        "# class\n",
        "\n",
        "class SoftmaxClassifierModel(nn.Module):\n",
        "  def __init__(self):\n",
        "    super().__init__()\n",
        "    self.linear = nn.Linear(4,3)\n",
        "\n",
        "  def forward(self,x):\n",
        "    return self.linear(x)\n",
        "\n",
        "model = SoftmaxClassifierModel()\n",
        "\n",
        "h = model(x_train)"
      ],
      "metadata": {
        "id": "qCkhtpRp-Z4O"
      },
      "execution_count": null,
      "outputs": []
    },
    {
      "cell_type": "markdown",
      "source": [
        "- MNIST data classification\n",
        "\n",
        "  28 x 28"
      ],
      "metadata": {
        "id": "sOJxTKk-_Be-"
      }
    },
    {
      "cell_type": "code",
      "source": [
        "import torch\n",
        "import torchvision.datasets as dsets\n",
        "import torchvision.transforms as transforms\n",
        "from torch.utils.data import DataLoader\n",
        "import torch.nn as nn\n",
        "import matplotlib.pyplot as plt\n",
        "import random\n",
        "\n",
        "training_epochs = 15\n",
        "batch_size = 100"
      ],
      "metadata": {
        "id": "o3He4VDS_Ujc"
      },
      "execution_count": 1,
      "outputs": []
    },
    {
      "cell_type": "code",
      "source": [
        "mnist_train = dsets.MNIST(root='MNIST_data/',\n",
        "                          train=True,\n",
        "                          transform=transforms.ToTensor(), # PyTorch Tensor\n",
        "                          download=True)\n",
        "\n",
        "mnist_test = dsets.MNIST(root='MNIST_data/',\n",
        "                         train=False,\n",
        "                         transform=transforms.ToTensor(),\n",
        "                         download=True)"
      ],
      "metadata": {
        "colab": {
          "base_uri": "https://localhost:8080/",
          "height": 439,
          "referenced_widgets": [
            "8e6d751afe7448edb4aea82e227544ab",
            "b9afd0f6346c4c07a4b6f1c3b0bee820",
            "9763ee9d337e4017b7e81967a4fd06f2",
            "3a9a8f53b82c4074832875d439450336",
            "cf7f3e8e829545e9b2dfad9c2b8a803d",
            "2799435341a6454c9740739432cfc997",
            "781891b9bab44865b36c0f7473291316",
            "12203d209cc94e099f9d8d918e53126c",
            "ee30bd7f099042359e5ff5474a2a4039",
            "5625a72f98f74ad4a362604a1733ce20",
            "eae87fdebad64a72ba33b9c431c0b377",
            "81650bb265084ef7a2b39614755f3bc2",
            "b031f67b8e8d42058c83ba73ab5e5d2d",
            "9ceb15f8456c474ca47f824d84accd2e",
            "87e91fa67aa9447b8cc6314562ed440b",
            "04cb49efbdbf4e7ba7ccb7455381820a",
            "a0b82ea47dd846aeb0fee693e5cd9fac",
            "aed765ac338e4540adbb0419164aaf23",
            "b8d19d7927964cb4994d6acd33b32907",
            "8c6631b7062442c7877bb98f08cad8e3",
            "dc0d85c8b700430cbbdf6edb50031180",
            "c7ab8db2d82e43929da6d94a7d65c09a",
            "09a10199c2d74f89b609d53f455226ca",
            "72ff19b3d0c5428cbe409cf693844bcb",
            "e7af18fa900a40f391211340c73f076e",
            "0420dd1becbb42a4b1c23f7e90ba9b66",
            "ef1f8c3263b34be49dd42d7e48e04dd9",
            "2d133594bb05407d81ab57b1ba745454",
            "2b9b6b689f984056921125241ea507a5",
            "23dcdb7461074a27b10c88afa0ededff",
            "bf3ea32d17fc4c2ba8a9f548327ed65f",
            "791f9240ec2f4d129f64a4998ca00449",
            "3554efa534d0460cb0da312c712e8772",
            "4ec1e68b75544b949fad5441458deb1c",
            "85a01798b98447749a899179296d40ff",
            "063dc4ccb7314aa1b551f81397e994a8",
            "a4852b6a442d4b5cbab33f91c7f5e412",
            "ecd82328d67842ea8b081957de5b2b85",
            "0c6e9d9f9d4d47f1a02f4a9e91cd5e4f",
            "cff7193d2f344e768e164b4e5837c5b9",
            "9eeb344d3f92481fb96d9abaee6c53b7",
            "0ec884c4126f430c82ef689fdc34e5af",
            "b8b1a2858cfc469d8a72b67eada8c7bc",
            "c48c635be5d4418eabf9d618c19d1272"
          ]
        },
        "id": "yM0tBUTDANZw",
        "outputId": "45851da7-5a92-4ec4-902e-7fc34e78fa63"
      },
      "execution_count": 2,
      "outputs": [
        {
          "output_type": "stream",
          "name": "stdout",
          "text": [
            "Downloading http://yann.lecun.com/exdb/mnist/train-images-idx3-ubyte.gz\n",
            "Downloading http://yann.lecun.com/exdb/mnist/train-images-idx3-ubyte.gz to MNIST_data/MNIST/raw/train-images-idx3-ubyte.gz\n"
          ]
        },
        {
          "output_type": "display_data",
          "data": {
            "text/plain": [
              "  0%|          | 0/9912422 [00:00<?, ?it/s]"
            ],
            "application/vnd.jupyter.widget-view+json": {
              "version_major": 2,
              "version_minor": 0,
              "model_id": "8e6d751afe7448edb4aea82e227544ab"
            }
          },
          "metadata": {}
        },
        {
          "output_type": "stream",
          "name": "stdout",
          "text": [
            "Extracting MNIST_data/MNIST/raw/train-images-idx3-ubyte.gz to MNIST_data/MNIST/raw\n",
            "\n",
            "Downloading http://yann.lecun.com/exdb/mnist/train-labels-idx1-ubyte.gz\n",
            "Downloading http://yann.lecun.com/exdb/mnist/train-labels-idx1-ubyte.gz to MNIST_data/MNIST/raw/train-labels-idx1-ubyte.gz\n"
          ]
        },
        {
          "output_type": "display_data",
          "data": {
            "text/plain": [
              "  0%|          | 0/28881 [00:00<?, ?it/s]"
            ],
            "application/vnd.jupyter.widget-view+json": {
              "version_major": 2,
              "version_minor": 0,
              "model_id": "81650bb265084ef7a2b39614755f3bc2"
            }
          },
          "metadata": {}
        },
        {
          "output_type": "stream",
          "name": "stdout",
          "text": [
            "Extracting MNIST_data/MNIST/raw/train-labels-idx1-ubyte.gz to MNIST_data/MNIST/raw\n",
            "\n",
            "Downloading http://yann.lecun.com/exdb/mnist/t10k-images-idx3-ubyte.gz\n",
            "Downloading http://yann.lecun.com/exdb/mnist/t10k-images-idx3-ubyte.gz to MNIST_data/MNIST/raw/t10k-images-idx3-ubyte.gz\n"
          ]
        },
        {
          "output_type": "display_data",
          "data": {
            "text/plain": [
              "  0%|          | 0/1648877 [00:00<?, ?it/s]"
            ],
            "application/vnd.jupyter.widget-view+json": {
              "version_major": 2,
              "version_minor": 0,
              "model_id": "09a10199c2d74f89b609d53f455226ca"
            }
          },
          "metadata": {}
        },
        {
          "output_type": "stream",
          "name": "stdout",
          "text": [
            "Extracting MNIST_data/MNIST/raw/t10k-images-idx3-ubyte.gz to MNIST_data/MNIST/raw\n",
            "\n",
            "Downloading http://yann.lecun.com/exdb/mnist/t10k-labels-idx1-ubyte.gz\n",
            "Downloading http://yann.lecun.com/exdb/mnist/t10k-labels-idx1-ubyte.gz to MNIST_data/MNIST/raw/t10k-labels-idx1-ubyte.gz\n"
          ]
        },
        {
          "output_type": "display_data",
          "data": {
            "text/plain": [
              "  0%|          | 0/4542 [00:00<?, ?it/s]"
            ],
            "application/vnd.jupyter.widget-view+json": {
              "version_major": 2,
              "version_minor": 0,
              "model_id": "4ec1e68b75544b949fad5441458deb1c"
            }
          },
          "metadata": {}
        },
        {
          "output_type": "stream",
          "name": "stdout",
          "text": [
            "Extracting MNIST_data/MNIST/raw/t10k-labels-idx1-ubyte.gz to MNIST_data/MNIST/raw\n",
            "\n"
          ]
        }
      ]
    },
    {
      "cell_type": "code",
      "source": [
        "data_loader = DataLoader(dataset=mnist_train,\n",
        "                         batch_size = batch_size,\n",
        "                         shuffle = True,\n",
        "                         drop_last = True) # 마지막 배치 버림(마지막 배치가 상대적으로 과대평가되는 현상 막아줌)"
      ],
      "metadata": {
        "id": "HYbCuUVcAd5s"
      },
      "execution_count": 3,
      "outputs": []
    },
    {
      "cell_type": "code",
      "source": [
        "linear = nn.Linear(784,10,bias = True).to('cuda') # gpu 사용의 경우 cuda\n",
        "\n",
        "c = nn.CrossEntropyLoss().to('cuda')\n",
        "optimizer = torch.optim.SGD(linear.parameters(),lr=0.1)"
      ],
      "metadata": {
        "id": "QWlBsOwpA-jk"
      },
      "execution_count": 6,
      "outputs": []
    },
    {
      "cell_type": "code",
      "source": [
        "for epoch in range(training_epochs):\n",
        "  avg_cost = 0\n",
        "  total_batch = len(data_loader)\n",
        "\n",
        "  for X,Y in data_loader:\n",
        "    X = X.view(-1,28*28).to('cuda')\n",
        "    Y = Y.to('cuda')\n",
        "\n",
        "    h = linear(X)\n",
        "    cost = c(h,Y)\n",
        "\n",
        "    optimizer.zero_grad()\n",
        "    cost.backward()\n",
        "    optimizer.step()\n",
        "\n",
        "    avg_cost += cost / total_batch\n",
        "\n",
        "  print('Epoch:', '%04d' % (epoch + 1), 'cost =', '{:.9f}'.format(avg_cost))"
      ],
      "metadata": {
        "colab": {
          "base_uri": "https://localhost:8080/"
        },
        "id": "VYfSslCuBrNp",
        "outputId": "10b70fe6-a1fe-44c2-b2b9-13e490e4a8b1"
      },
      "execution_count": 8,
      "outputs": [
        {
          "output_type": "stream",
          "name": "stdout",
          "text": [
            "Epoch: 0001 cost = 0.318044871\n",
            "Epoch: 0002 cost = 0.308038831\n",
            "Epoch: 0003 cost = 0.300979972\n",
            "Epoch: 0004 cost = 0.295532793\n",
            "Epoch: 0005 cost = 0.291337281\n",
            "Epoch: 0006 cost = 0.287786335\n",
            "Epoch: 0007 cost = 0.284732848\n",
            "Epoch: 0008 cost = 0.282314628\n",
            "Epoch: 0009 cost = 0.280011475\n",
            "Epoch: 0010 cost = 0.278040349\n",
            "Epoch: 0011 cost = 0.276121020\n",
            "Epoch: 0012 cost = 0.274740696\n",
            "Epoch: 0013 cost = 0.273166537\n",
            "Epoch: 0014 cost = 0.271828771\n",
            "Epoch: 0015 cost = 0.270828515\n"
          ]
        }
      ]
    }
  ]
}