{
  "nbformat": 4,
  "nbformat_minor": 0,
  "metadata": {
    "colab": {
      "name": "04_nn.Module_and_Class.ipynb",
      "provenance": [],
      "authorship_tag": "ABX9TyOKeEOnovSMmQdw/oiuOzmr"
    },
    "kernelspec": {
      "name": "python3",
      "display_name": "Python 3"
    },
    "language_info": {
      "name": "python"
    }
  },
  "cells": [
    {
      "cell_type": "markdown",
      "source": [
        "### - nn.Module로 선형 회귀 구현\n",
        "\n",
        "1. 단순 선형 회귀"
      ],
      "metadata": {
        "id": "FKO5tGW_pQvg"
      }
    },
    {
      "cell_type": "code",
      "source": [
        "import torch\n",
        "import torch.nn as nn\n",
        "import torch.nn.functional as F\n",
        "\n",
        "x_train = torch.FloatTensor([[1],[2],[3]])\n",
        "y_train = torch.FloatTensor([[2],[4],[6]])\n",
        "\n",
        "model = nn.Linear(1,1) # input_dim = 1, output_dim = 1\n",
        "\n",
        "list(model.parameters()) # parameter 랜덤 초기화"
      ],
      "metadata": {
        "colab": {
          "base_uri": "https://localhost:8080/"
        },
        "id": "vqzERU9KpeZR",
        "outputId": "2a8bc4a4-bcd0-471a-fc54-f57c60d55dc6"
      },
      "execution_count": null,
      "outputs": [
        {
          "output_type": "execute_result",
          "data": {
            "text/plain": [
              "[Parameter containing:\n",
              " tensor([[0.7118]], requires_grad=True), Parameter containing:\n",
              " tensor([0.2852], requires_grad=True)]"
            ]
          },
          "metadata": {},
          "execution_count": 2
        }
      ]
    },
    {
      "cell_type": "code",
      "source": [
        "optimizer = torch.optim.SGD(model.parameters(),lr = 0.01)\n",
        "\n",
        "nb_epochs = 2000\n",
        "for epoch in range(nb_epochs+1):\n",
        "  h = model(x_train)\n",
        "  cost = F.mse_loss(h, y_train)\n",
        "\n",
        "  optimizer.zero_grad()\n",
        "  cost.backward()\n",
        "  optimizer.step()\n",
        "\n",
        "  if epoch % 100 == 0:\n",
        "      print('Epoch {:4d}/{} Cost: {:.6f}'.format(\n",
        "          epoch, nb_epochs, cost.item()\n",
        "      ))"
      ],
      "metadata": {
        "colab": {
          "base_uri": "https://localhost:8080/"
        },
        "id": "IqlRvgs6W_E7",
        "outputId": "a2eba1f6-2996-4e4e-ef0b-b3417fdeaaf0"
      },
      "execution_count": null,
      "outputs": [
        {
          "output_type": "stream",
          "name": "stdout",
          "text": [
            "Epoch    0/2000 Cost: 6.355488\n",
            "Epoch  100/2000 Cost: 0.045163\n",
            "Epoch  200/2000 Cost: 0.027908\n",
            "Epoch  300/2000 Cost: 0.017245\n",
            "Epoch  400/2000 Cost: 0.010657\n",
            "Epoch  500/2000 Cost: 0.006585\n",
            "Epoch  600/2000 Cost: 0.004069\n",
            "Epoch  700/2000 Cost: 0.002515\n",
            "Epoch  800/2000 Cost: 0.001554\n",
            "Epoch  900/2000 Cost: 0.000960\n",
            "Epoch 1000/2000 Cost: 0.000593\n",
            "Epoch 1100/2000 Cost: 0.000367\n",
            "Epoch 1200/2000 Cost: 0.000227\n",
            "Epoch 1300/2000 Cost: 0.000140\n",
            "Epoch 1400/2000 Cost: 0.000087\n",
            "Epoch 1500/2000 Cost: 0.000053\n",
            "Epoch 1600/2000 Cost: 0.000033\n",
            "Epoch 1700/2000 Cost: 0.000020\n",
            "Epoch 1800/2000 Cost: 0.000013\n",
            "Epoch 1900/2000 Cost: 0.000008\n",
            "Epoch 2000/2000 Cost: 0.000005\n"
          ]
        }
      ]
    },
    {
      "cell_type": "code",
      "source": [
        "model(torch.FloatTensor([[4.0]])) # training 후 입력이 4일때 예측값"
      ],
      "metadata": {
        "colab": {
          "base_uri": "https://localhost:8080/"
        },
        "id": "AyqBEL5OY6BY",
        "outputId": "584153fc-bfa2-4384-cc46-f29981b9661e"
      },
      "execution_count": null,
      "outputs": [
        {
          "output_type": "execute_result",
          "data": {
            "text/plain": [
              "tensor([[7.9956]], grad_fn=<AddmmBackward0>)"
            ]
          },
          "metadata": {},
          "execution_count": 5
        }
      ]
    },
    {
      "cell_type": "code",
      "source": [
        "list(model.parameters())"
      ],
      "metadata": {
        "colab": {
          "base_uri": "https://localhost:8080/"
        },
        "id": "yv8CMk8BZI_1",
        "outputId": "6e0c3ff8-3228-445f-e7d2-c8e44e4683fb"
      },
      "execution_count": null,
      "outputs": [
        {
          "output_type": "execute_result",
          "data": {
            "text/plain": [
              "[Parameter containing:\n",
              " tensor([[1.9975]], requires_grad=True), Parameter containing:\n",
              " tensor([0.0058], requires_grad=True)]"
            ]
          },
          "metadata": {},
          "execution_count": 6
        }
      ]
    },
    {
      "cell_type": "markdown",
      "source": [
        "2. 다중 선형 회귀"
      ],
      "metadata": {
        "id": "Bg2YDZT3pinq"
      }
    },
    {
      "cell_type": "code",
      "source": [
        "x_train = torch.FloatTensor([[73, 80, 75],\n",
        "                             [93, 88, 93],\n",
        "                             [89, 91, 90],\n",
        "                             [96, 98, 100],\n",
        "                             [73, 66, 70]])\n",
        "y_train = torch.FloatTensor([[152],[185],[180],[196],[142]])\n",
        "\n",
        "model = nn.Linear(3,1) # input_dim = 3, output_dim = 1\n",
        "\n",
        "optimizer = torch.optim.SGD(model.parameters(),lr=1e-5)\n",
        "# 1e-5 = 0.00001, 0.01로 하지 않는 이유는 기울기가 발산하기 때문이다. \n",
        "\n",
        "nb_epochs = 2000\n",
        "for epoch in range(nb_epochs+1):\n",
        "    h = model(x_train)\n",
        "    cost = F.mse_loss(h, y_train) \n",
        "\n",
        "    optimizer.zero_grad()\n",
        "    cost.backward()\n",
        "    optimizer.step()\n",
        "\n",
        "    if epoch % 100 == 0:\n",
        "      print('Epoch {:4d}/{} Cost: {:.6f}'.format(\n",
        "          epoch, nb_epochs, cost.item()\n",
        "      ))"
      ],
      "metadata": {
        "colab": {
          "base_uri": "https://localhost:8080/"
        },
        "id": "y4ZSQe1Lpns2",
        "outputId": "3e6d716a-7499-4df8-f748-37e200fb57b0"
      },
      "execution_count": null,
      "outputs": [
        {
          "output_type": "stream",
          "name": "stdout",
          "text": [
            "Epoch    0/2000 Cost: 40791.382812\n",
            "Epoch  100/2000 Cost: 0.458767\n",
            "Epoch  200/2000 Cost: 0.457272\n",
            "Epoch  300/2000 Cost: 0.455790\n",
            "Epoch  400/2000 Cost: 0.454306\n",
            "Epoch  500/2000 Cost: 0.452854\n",
            "Epoch  600/2000 Cost: 0.451392\n",
            "Epoch  700/2000 Cost: 0.449951\n",
            "Epoch  800/2000 Cost: 0.448507\n",
            "Epoch  900/2000 Cost: 0.447074\n",
            "Epoch 1000/2000 Cost: 0.445660\n",
            "Epoch 1100/2000 Cost: 0.444234\n",
            "Epoch 1200/2000 Cost: 0.442840\n",
            "Epoch 1300/2000 Cost: 0.441430\n",
            "Epoch 1400/2000 Cost: 0.440049\n",
            "Epoch 1500/2000 Cost: 0.438660\n",
            "Epoch 1600/2000 Cost: 0.437285\n",
            "Epoch 1700/2000 Cost: 0.435926\n",
            "Epoch 1800/2000 Cost: 0.434561\n",
            "Epoch 1900/2000 Cost: 0.433213\n",
            "Epoch 2000/2000 Cost: 0.431865\n"
          ]
        }
      ]
    },
    {
      "cell_type": "code",
      "source": [
        "model(torch.FloatTensor([[73,80,75]]))"
      ],
      "metadata": {
        "colab": {
          "base_uri": "https://localhost:8080/"
        },
        "id": "-tRKgsS5aq4R",
        "outputId": "5e508a02-31fb-4633-9cc5-570c3c9e0448"
      },
      "execution_count": null,
      "outputs": [
        {
          "output_type": "execute_result",
          "data": {
            "text/plain": [
              "tensor([[151.0500]], grad_fn=<AddmmBackward0>)"
            ]
          },
          "metadata": {},
          "execution_count": 9
        }
      ]
    },
    {
      "cell_type": "code",
      "source": [
        "list(model.parameters())"
      ],
      "metadata": {
        "colab": {
          "base_uri": "https://localhost:8080/"
        },
        "id": "qqm1mLyda7yt",
        "outputId": "e1b8cf46-8887-424e-ab1b-355fba78d505"
      },
      "execution_count": null,
      "outputs": [
        {
          "output_type": "execute_result",
          "data": {
            "text/plain": [
              "[Parameter containing:\n",
              " tensor([[0.7881, 0.3876, 0.8301]], requires_grad=True), Parameter containing:\n",
              " tensor([0.2567], requires_grad=True)]"
            ]
          },
          "metadata": {},
          "execution_count": 10
        }
      ]
    },
    {
      "cell_type": "markdown",
      "source": [
        "### - Class로 PyTorch Module 구현\n",
        "\n",
        "1. 모델을 클래스로 구현"
      ],
      "metadata": {
        "id": "JPNC2I-Tpn6v"
      }
    },
    {
      "cell_type": "code",
      "source": [
        "class LinearRegressionModel(nn.Module): # torch.nn.Module 상속\n",
        "  def __init__(self):\n",
        "    super().__init__()\n",
        "    self.linear = nn.Linear(1,1)\n",
        "\n",
        "  def forward(self,x): # 자동으로 실행\n",
        "    return self.linear(x)\n",
        "\n",
        "model = LinearRegressionModel()"
      ],
      "metadata": {
        "id": "Ga182CAup41I"
      },
      "execution_count": null,
      "outputs": []
    },
    {
      "cell_type": "code",
      "source": [
        "# 다중 회귀 모델\n",
        "class MultivariableLinearRegressionModel(nn.Module):\n",
        "  def __init__(self):\n",
        "    super().__init__()\n",
        "    self.linear = nn.Linear(3,1)\n",
        "\n",
        "  def forward(self, x):\n",
        "    return self.linear(x)"
      ],
      "metadata": {
        "id": "06qiS9iXbw0d"
      },
      "execution_count": null,
      "outputs": []
    },
    {
      "cell_type": "markdown",
      "source": [
        "2. 단순 선형 회귀 클래스로 구현"
      ],
      "metadata": {
        "id": "5P6pV2ZkZ8pn"
      }
    },
    {
      "cell_type": "code",
      "source": [
        "import torch \n",
        "import torch.nn as nn\n",
        "import torch.nn.functional as F\n",
        "\n",
        "x_train = torch.FloatTensor([[1],[2],[3]])\n",
        "y_train = torch.FloatTensor([[2],[4],[6]])"
      ],
      "metadata": {
        "id": "3FKcAMUzaDKK"
      },
      "execution_count": null,
      "outputs": []
    },
    {
      "cell_type": "code",
      "source": [
        "class LinearRegressionModel(nn.Module):\n",
        "  def __init__(self):\n",
        "    super().__init__()\n",
        "    self.linear = nn.Linear(1,1)\n",
        "\n",
        "  def forward(self,x):\n",
        "    return self.linear(x)\n",
        "\n",
        "model = LinearRegressionModel()\n",
        "\n",
        "optimizer = torch.optim.SGD(model.parameters(),lr=0.01)\n",
        "\n",
        "nb_epochs = 2000\n",
        "for epoch in range(nb_epochs+1):\n",
        "  h = model(x_train)\n",
        "  cost = F.mse_loss(h, y_train)\n",
        "\n",
        "  optimizer.zero_grad()\n",
        "  cost.backward()\n",
        "  optimizer.step()\n",
        "\n",
        "  if epoch % 100 == 0:\n",
        "    print('Epoch {:4d}/{} Cost: {:.6f}'.format(\n",
        "        epoch, nb_epochs, cost.item()\n",
        "    ))"
      ],
      "metadata": {
        "colab": {
          "base_uri": "https://localhost:8080/"
        },
        "id": "G32ZbfuIaX-D",
        "outputId": "966b6963-a0fc-408e-89a4-b909e1123ee5"
      },
      "execution_count": null,
      "outputs": [
        {
          "output_type": "stream",
          "name": "stdout",
          "text": [
            "Epoch    0/2000 Cost: 11.960636\n",
            "Epoch  100/2000 Cost: 0.022226\n",
            "Epoch  200/2000 Cost: 0.013735\n",
            "Epoch  300/2000 Cost: 0.008487\n",
            "Epoch  400/2000 Cost: 0.005245\n",
            "Epoch  500/2000 Cost: 0.003241\n",
            "Epoch  600/2000 Cost: 0.002003\n",
            "Epoch  700/2000 Cost: 0.001238\n",
            "Epoch  800/2000 Cost: 0.000765\n",
            "Epoch  900/2000 Cost: 0.000473\n",
            "Epoch 1000/2000 Cost: 0.000292\n",
            "Epoch 1100/2000 Cost: 0.000180\n",
            "Epoch 1200/2000 Cost: 0.000111\n",
            "Epoch 1300/2000 Cost: 0.000069\n",
            "Epoch 1400/2000 Cost: 0.000043\n",
            "Epoch 1500/2000 Cost: 0.000026\n",
            "Epoch 1600/2000 Cost: 0.000016\n",
            "Epoch 1700/2000 Cost: 0.000010\n",
            "Epoch 1800/2000 Cost: 0.000006\n",
            "Epoch 1900/2000 Cost: 0.000004\n",
            "Epoch 2000/2000 Cost: 0.000002\n"
          ]
        }
      ]
    }
  ]
}