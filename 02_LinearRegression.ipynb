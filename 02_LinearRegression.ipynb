{
  "nbformat": 4,
  "nbformat_minor": 0,
  "metadata": {
    "colab": {
      "name": "02_LinearRegression.ipynb",
      "provenance": [],
      "authorship_tag": "ABX9TyMble45DwUBvagnluoAqPTl"
    },
    "kernelspec": {
      "name": "python3",
      "display_name": "Python 3"
    },
    "language_info": {
      "name": "python"
    }
  },
  "cells": [
    {
      "cell_type": "markdown",
      "source": [
        "1. Data Definition\n",
        "\n",
        "- Training dataset and Test dataset\n",
        "\n",
        "- Composition of Training dataset"
      ],
      "metadata": {
        "id": "a7S7wz0RxUe9"
      }
    },
    {
      "cell_type": "code",
      "execution_count": null,
      "metadata": {
        "id": "6HKdC2I4wTz0"
      },
      "outputs": [],
      "source": [
        "x_train = torch.FloatTensor([[1],[2],[3]]) # 공부 시간\n",
        "y_train = torch.FloatTensor([[2],[4],[6]]) # 맵핑되는 점수"
      ]
    },
    {
      "cell_type": "markdown",
      "source": [
        "2. Hypothesis 수립\n",
        "\n",
        "  y = Wx + b\n",
        "\n",
        "  H(x) = Wx + b (W: 가중치, b: 편향)\n",
        "\n",
        "3. 비용함수에 대한 이해\n",
        "\n",
        "  비용함수 cost function = 손실함수 loss function = 오차함수 error function = 목적함수 objective function\n",
        "\n",
        "  평균 제곱 오차 Mean Squared Error, MSE를 비용함수로 재정의\n",
        "\n",
        "  ![image.png](data:image/png;base64,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)"
      ],
      "metadata": {
        "id": "zDBFBaM-yhOd"
      }
    },
    {
      "cell_type": "markdown",
      "source": [
        "4. 옵티마이저 - Gradient Descent\n",
        "\n",
        "  비용한수 값을 최소로 하는 W, b 찾는 데 사용되는 것 -> 옵티마이저\n",
        "\n",
        "  y = Wx : W가 지나치게 크거나 작으면 오차 확연히 증가하므로, cost가 최소가 되는 값을 찾아야 한다. 이는 접선의 기울기가 0이 됨을 의미한다.\n",
        "\n",
        "  학습률 : W의 값을 변경할 때 얼마나 크게 변경할지를 의미한다.\n",
        "\n",
        "5. PyTorch로 linear regresstion 구현\n",
        "\n",
        "- 기본 셋팅"
      ],
      "metadata": {
        "id": "TzPJkbIh0PO_"
      }
    },
    {
      "cell_type": "code",
      "source": [
        "import torch\n",
        "import torch.nn as nn\n",
        "import torch.nn.functional as F\n",
        "import torch.optim as optim"
      ],
      "metadata": {
        "id": "mmggwysnJ01r"
      },
      "execution_count": 2,
      "outputs": []
    },
    {
      "cell_type": "markdown",
      "source": [
        "- 변수 선언"
      ],
      "metadata": {
        "id": "i-t9htahKPQ7"
      }
    },
    {
      "cell_type": "code",
      "source": [
        "x_train = torch.FloatTensor([[1],[2],[3]])\n",
        "y_train = torch.FloatTensor([[2],[4],[6]])"
      ],
      "metadata": {
        "id": "US_sITyYKRjK"
      },
      "execution_count": 3,
      "outputs": []
    },
    {
      "cell_type": "code",
      "source": [
        "x_train"
      ],
      "metadata": {
        "colab": {
          "base_uri": "https://localhost:8080/"
        },
        "id": "SKMkDmdpKdWV",
        "outputId": "46246c9b-b30b-492e-e82f-53de02171d17"
      },
      "execution_count": 4,
      "outputs": [
        {
          "output_type": "execute_result",
          "data": {
            "text/plain": [
              "tensor([[1.],\n",
              "        [2.],\n",
              "        [3.]])"
            ]
          },
          "metadata": {},
          "execution_count": 4
        }
      ]
    },
    {
      "cell_type": "code",
      "source": [
        "x_train.shape"
      ],
      "metadata": {
        "colab": {
          "base_uri": "https://localhost:8080/"
        },
        "id": "sJwq35QlKgS1",
        "outputId": "fd1b54d6-bde4-42f3-a2ea-d4472be4c58f"
      },
      "execution_count": 5,
      "outputs": [
        {
          "output_type": "execute_result",
          "data": {
            "text/plain": [
              "torch.Size([3, 1])"
            ]
          },
          "metadata": {},
          "execution_count": 5
        }
      ]
    },
    {
      "cell_type": "markdown",
      "source": [
        "- 가중치와 편향의 초기화 : 0으로 초기화 y = 0x + 0"
      ],
      "metadata": {
        "id": "hVGJk_QcKolV"
      }
    },
    {
      "cell_type": "code",
      "source": [
        "W = torch.zeros(1, requires_grad = True) # requres_grad = True : 학습을 통해 계속 값이 변경되는 변수"
      ],
      "metadata": {
        "id": "AC0WDTKfKrgz"
      },
      "execution_count": 8,
      "outputs": []
    },
    {
      "cell_type": "code",
      "source": [
        "b = torch.zeros(1, requires_grad = True)"
      ],
      "metadata": {
        "id": "mz1cF1FuM7vk"
      },
      "execution_count": 9,
      "outputs": []
    },
    {
      "cell_type": "markdown",
      "source": [
        "- hypothesis : H(x) = Wx + b"
      ],
      "metadata": {
        "id": "ue-1H0z2Neb7"
      }
    },
    {
      "cell_type": "code",
      "source": [
        "h = x_train * W + b"
      ],
      "metadata": {
        "id": "eUbEnCs0NdRT"
      },
      "execution_count": 11,
      "outputs": []
    },
    {
      "cell_type": "markdown",
      "source": [
        "- 비용함수 선언"
      ],
      "metadata": {
        "id": "UTwjlNsWNr1U"
      }
    },
    {
      "cell_type": "code",
      "source": [
        "cost = torch.mean((h - y_train)**2)\n",
        "cost"
      ],
      "metadata": {
        "colab": {
          "base_uri": "https://localhost:8080/"
        },
        "id": "qlBON_EkNvSb",
        "outputId": "f46d1627-87e0-4000-ee95-1e16d5e1d125"
      },
      "execution_count": 12,
      "outputs": [
        {
          "output_type": "execute_result",
          "data": {
            "text/plain": [
              "tensor(18.6667, grad_fn=<MeanBackward0>)"
            ]
          },
          "metadata": {},
          "execution_count": 12
        }
      ]
    },
    {
      "cell_type": "markdown",
      "source": [
        "- 경사 하강법 구현"
      ],
      "metadata": {
        "id": "GZkWF_hdPZGQ"
      }
    },
    {
      "cell_type": "code",
      "source": [
        "optimizer = optim.SGD([W,b],lr=0.01) # SGD : 경사하강법의 일종"
      ],
      "metadata": {
        "id": "xbVnplNdPbck"
      },
      "execution_count": 13,
      "outputs": []
    },
    {
      "cell_type": "code",
      "source": [
        "optimizer.zero_grad() # 기울기 0으로 초기화\n",
        "cost.backward() # 기울기 계산\n",
        "optimizer.step() # 학습률 적용"
      ],
      "metadata": {
        "id": "6F33zW8oPlTk"
      },
      "execution_count": null,
      "outputs": []
    },
    {
      "cell_type": "markdown",
      "source": [
        "- 경사하강법 반복"
      ],
      "metadata": {
        "id": "VB8ZgonJUeTm"
      }
    },
    {
      "cell_type": "code",
      "source": [
        "x_train = torch.FloatTensor([[1], [2], [3]])\n",
        "y_train = torch.FloatTensor([[2], [4], [6]])\n",
        "\n",
        "W = torch.zeros(1, requires_grad=True)\n",
        "b = torch.zeros(1, requires_grad=True)\n",
        "\n",
        "optimizer = optim.SGD([W, b], lr=0.01)\n",
        "\n",
        "nb_epochs = 1999\n",
        "for epoch in range(nb_epochs + 1):\n",
        "  h = x_train * W + b\n",
        "  cost = torch.mean((h - y_train)**2)\n",
        "\n",
        "  optimizer.zero_grad()\n",
        "  cost.backward()\n",
        "  optimizer.step()\n",
        "\n",
        "  if epoch % 100 == 0:\n",
        "    print('Epoch {:4d}/{} W: {:.3f}, b: {:.3f} Cost: {:.6f}'.format(\n",
        "            epoch, nb_epochs, W.item(), b.item(), cost.item()\n",
        "        ))"
      ],
      "metadata": {
        "colab": {
          "base_uri": "https://localhost:8080/"
        },
        "id": "b2eGN4qQUk5N",
        "outputId": "9d3e8c9d-114c-4aae-b544-b1a1f43934a0"
      },
      "execution_count": 14,
      "outputs": [
        {
          "output_type": "stream",
          "name": "stdout",
          "text": [
            "Epoch    0/1999 W: 0.187, b: 0.080 Cost: 18.666666\n",
            "Epoch  100/1999 W: 1.746, b: 0.578 Cost: 0.048171\n",
            "Epoch  200/1999 W: 1.800, b: 0.454 Cost: 0.029767\n",
            "Epoch  300/1999 W: 1.843, b: 0.357 Cost: 0.018394\n",
            "Epoch  400/1999 W: 1.876, b: 0.281 Cost: 0.011366\n",
            "Epoch  500/1999 W: 1.903, b: 0.221 Cost: 0.007024\n",
            "Epoch  600/1999 W: 1.924, b: 0.174 Cost: 0.004340\n",
            "Epoch  700/1999 W: 1.940, b: 0.136 Cost: 0.002682\n",
            "Epoch  800/1999 W: 1.953, b: 0.107 Cost: 0.001657\n",
            "Epoch  900/1999 W: 1.963, b: 0.084 Cost: 0.001024\n",
            "Epoch 1000/1999 W: 1.971, b: 0.066 Cost: 0.000633\n",
            "Epoch 1100/1999 W: 1.977, b: 0.052 Cost: 0.000391\n",
            "Epoch 1200/1999 W: 1.982, b: 0.041 Cost: 0.000242\n",
            "Epoch 1300/1999 W: 1.986, b: 0.032 Cost: 0.000149\n",
            "Epoch 1400/1999 W: 1.989, b: 0.025 Cost: 0.000092\n",
            "Epoch 1500/1999 W: 1.991, b: 0.020 Cost: 0.000057\n",
            "Epoch 1600/1999 W: 1.993, b: 0.016 Cost: 0.000035\n",
            "Epoch 1700/1999 W: 1.995, b: 0.012 Cost: 0.000022\n",
            "Epoch 1800/1999 W: 1.996, b: 0.010 Cost: 0.000013\n",
            "Epoch 1900/1999 W: 1.997, b: 0.008 Cost: 0.000008\n"
          ]
        }
      ]
    },
    {
      "cell_type": "markdown",
      "source": [
        "6. optimizer.zero_grad() 필요한 이유 : 파이토치는 미분을 통해 얻은 기울기를 이전 계산된 기울기 값에 누적하는 특징이 있기 때문이다.\n"
      ],
      "metadata": {
        "id": "mf1DOpLCVnYG"
      }
    }
  ]
}